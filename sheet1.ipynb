{
  "nbformat": 4,
  "nbformat_minor": 0,
  "metadata": {
    "colab": {
      "name": "sheet1.ipynb",
      "provenance": [],
      "collapsed_sections": [],
      "authorship_tag": "ABX9TyOJE2uHe+mwQtaN8X/YEsH/",
      "include_colab_link": true
    },
    "kernelspec": {
      "name": "python3",
      "display_name": "Python 3"
    }
  },
  "cells": [
    {
      "cell_type": "markdown",
      "metadata": {
        "id": "view-in-github",
        "colab_type": "text"
      },
      "source": [
        "<a href=\"https://colab.research.google.com/github/Mobad225/Basic-PCA/blob/master/sheet1.ipynb\" target=\"_parent\"><img src=\"https://colab.research.google.com/assets/colab-badge.svg\" alt=\"Open In Colab\"/></a>"
      ]
    },
    {
      "cell_type": "markdown",
      "metadata": {
        "id": "1MMvAYuvv4z-",
        "colab_type": "text"
      },
      "source": [
        "# **Question 1)**\n",
        "\n",
        "\n",
        "1.   Number of dimensions = 4\n",
        "2.   Data types of Attributes : Numeric (Integer)\n",
        "3.   Distance = (20$^2$ + (-10$^2$) + 20$^2$ + (-50$^2$))$^\\frac{1}{2}$ = 10 * 34$^\\frac{1}{2}$ = 58.31\n",
        "4.   Length | $X_{2}$ | = (20$^2$ + 50$^2$ + 40$^2$ + 70$^2$)$^\\frac{1}{2}$ = 10 * 94$^\\frac{1}{2}$ = 96.95\n",
        "5.   Length | $X_{2}$ | = 96.95,\n",
        "And Length | $X_{4}$ | = 83.07,\n",
        "And since $X_{2}$ . \n",
        "$X_{4}$ = 7900 , Then Cos(ang) = $\\frac{7900}{96.95 * 83.07}$ = 0.98093\n",
        "6.   We need attribute scaling as some attributes have a greater mean, and they will be dominant. We need to normalize the data.\n",
        "7.   \\begin{pmatrix}\n",
        "     0 & 1 & 0 & 1 \\\\\n",
        "     \\frac{1}{2} & 0 & 1 & \\frac{3}{4} \\\\\n",
        "     1  & 0  & \\frac{2}{3} & \\frac{3}{8}  \\\\\n",
        "     \\frac{1}{2} & 0 & \\frac{1}{3} & \\frac{5}{8} \\\\\n",
        "     0 & 1 & \\frac{2}{3} & 0\n",
        "     \\end{pmatrix}\n",
        "8.   Distance = (1$^2$ + (-1$^2$) + ($\\frac{2}{3}$)$^2$ + ($\\frac{-5}{8}$)$^2$)$^\\frac{1}{2}$ = 1.6838\n",
        "9.  Length | $X_{2}$ | = (0.5$^2$ + 0$^2$ + 1$^2$ + 0.75$^2$)$^\\frac{1}{2}$ = 1.3463\n",
        "10.  Length | $X_{2}$ | = 1.3463,\n",
        "And Length | $X_{4}$ | = 0.867,\n",
        "And since $X_{2}$ . \n",
        "$X_{4}$ = 1.052 , Then Cos(ang) = $\\frac{1.052}{1.3463 * 0.867}$ = 0.9013\n",
        "\n",
        "\n",
        "\n",
        "\n",
        "\n",
        "\n",
        "\n",
        "\n",
        "\n"
      ]
    },
    {
      "cell_type": "code",
      "metadata": {
        "id": "aSQMD4C7vtFk",
        "colab_type": "code",
        "colab": {}
      },
      "source": [
        "import numpy as np\n",
        "dataset  = np.matrix('10 60 10 90; 20 50 40 70; 30 50 30 40; 20 50 20 60; 10 60 30 10')"
      ],
      "execution_count": 0,
      "outputs": []
    },
    {
      "cell_type": "markdown",
      "metadata": {
        "id": "b2B198LHGmgo",
        "colab_type": "text"
      },
      "source": [
        "## Computing norm of each instance"
      ]
    },
    {
      "cell_type": "code",
      "metadata": {
        "id": "bANcBlRjFaI-",
        "colab_type": "code",
        "colab": {
          "base_uri": "https://localhost:8080/",
          "height": 34
        },
        "outputId": "7ab4b926-451e-4e5f-a6d9-3482affbdadf"
      },
      "source": [
        "print(np.linalg.norm(dataset, axis = 1))"
      ],
      "execution_count": 27,
      "outputs": [
        {
          "output_type": "stream",
          "text": [
            "[109.08712115  96.95359715  76.81145748  83.06623863  68.556546  ]\n"
          ],
          "name": "stdout"
        }
      ]
    },
    {
      "cell_type": "markdown",
      "metadata": {
        "id": "UxzbfX7_IveO",
        "colab_type": "text"
      },
      "source": [
        "## `Computing the cosine similarity matrix`"
      ]
    },
    {
      "cell_type": "code",
      "metadata": {
        "id": "US0lgZqOGzdT",
        "colab_type": "code",
        "colab": {
          "base_uri": "https://localhost:8080/",
          "height": 102
        },
        "outputId": "ebea6dca-9bf0-434c-d597-517d1579af2f"
      },
      "source": [
        "from sklearn.metrics.pairwise import cosine_similarity\n",
        "print(cosine_similarity(dataset))"
      ],
      "execution_count": 29,
      "outputs": [
        {
          "output_type": "stream",
          "text": [
            "[[1.         0.93604728 0.85927665 0.97114627 0.65519967]\n",
            " [0.93604728 1.         0.95338522 0.98093136 0.76728608]\n",
            " [0.85927665 0.95338522 1.         0.95604709 0.8735402 ]\n",
            " [0.97114627 0.98093136 0.95604709 1.         0.77264358]\n",
            " [0.65519967 0.76728608 0.8735402  0.77264358 1.        ]]\n"
          ],
          "name": "stdout"
        }
      ]
    },
    {
      "cell_type": "markdown",
      "metadata": {
        "id": "DGytyvpAKHvm",
        "colab_type": "text"
      },
      "source": [
        "## Computing the euclidean distance matrix"
      ]
    },
    {
      "cell_type": "code",
      "metadata": {
        "id": "TBBWVA1WI9p2",
        "colab_type": "code",
        "colab": {
          "base_uri": "https://localhost:8080/",
          "height": 102
        },
        "outputId": "dfdbfe6e-24a8-4c35-89e8-ee0a9199eebe"
      },
      "source": [
        "from sklearn.metrics.pairwise import euclidean_distances\n",
        "print(euclidean_distances(dataset))"
      ],
      "execution_count": 30,
      "outputs": [
        {
          "output_type": "stream",
          "text": [
            "[[ 0.         38.72983346 58.30951895 34.64101615 82.46211251]\n",
            " [38.72983346  0.         33.1662479  22.36067977 62.44997998]\n",
            " [58.30951895 33.1662479   0.         24.49489743 37.41657387]\n",
            " [34.64101615 22.36067977 24.49489743  0.         52.91502622]\n",
            " [82.46211251 62.44997998 37.41657387 52.91502622  0.        ]]\n"
          ],
          "name": "stdout"
        }
      ]
    },
    {
      "cell_type": "markdown",
      "metadata": {
        "id": "4qXTqpKKLOVl",
        "colab_type": "text"
      },
      "source": [
        "# PRINCIPAL COMPONENT ANALYSIS"
      ]
    },
    {
      "cell_type": "markdown",
      "metadata": {
        "id": "doqxMzQOOu2T",
        "colab_type": "text"
      },
      "source": [
        "## Print new Dataset"
      ]
    },
    {
      "cell_type": "code",
      "metadata": {
        "id": "Q1r5HpeMK_hP",
        "colab_type": "code",
        "colab": {
          "base_uri": "https://localhost:8080/",
          "height": 119
        },
        "outputId": "ea112f77-4f62-4c20-c76f-0f02bbe0a685"
      },
      "source": [
        "import pandas as pd\n",
        "dataframe = pd.DataFrame(dataset, columns = ['a1', 'a2', 'a3', 'a4'])\n",
        "del dataframe['a3']\n",
        "print(dataframe)"
      ],
      "execution_count": 87,
      "outputs": [
        {
          "output_type": "stream",
          "text": [
            "   a1  a2  a4\n",
            "0  10  60  90\n",
            "1  20  50  70\n",
            "2  30  50  40\n",
            "3  20  50  60\n",
            "4  10  60  10\n"
          ],
          "name": "stdout"
        }
      ]
    },
    {
      "cell_type": "markdown",
      "metadata": {
        "id": "VdZU2PeuO2DY",
        "colab_type": "text"
      },
      "source": [
        "## Plot the data using 3d scatter plots"
      ]
    },
    {
      "cell_type": "code",
      "metadata": {
        "id": "BGIBijvXMBB9",
        "colab_type": "code",
        "colab": {
          "base_uri": "https://localhost:8080/",
          "height": 575
        },
        "outputId": "07a7f3a0-a326-47d1-eb4f-9b0cee782633"
      },
      "source": [
        "import matplotlib.pyplot as plt\n",
        "from mpl_toolkits import mplot3d\n",
        "fig = plt.figure(figsize=(15,10))\n",
        "ax = plt.gca(projection='3d')\n",
        "ax.scatter3D(dataframe.T.iloc[0], dataframe.T.iloc[1], dataframe.T.iloc[2])\n",
        "ax.set_xlabel(dataframe.columns.values[0], fontsize = 10)\n",
        "ax.set_ylabel(dataframe.columns.values[1], fontsize = 10)\n",
        "ax.set_zlabel(dataframe.columns.values[2], fontsize = 10)\n",
        "plt.show()\n",
        "plt.close()"
      ],
      "execution_count": 93,
      "outputs": [
        {
          "output_type": "display_data",
          "data": {
            "image/png": "[encoded data removed]",
            "text/plain": [
              "<Figure size 1080x720 with 1 Axes>"
            ]
          },
          "metadata": {
            "tags": []
          }
        }
      ]
    },
    {
      "cell_type": "markdown",
      "metadata": {
        "id": "wFgHAnBvYskR",
        "colab_type": "text"
      },
      "source": [
        "## Compute mean vector"
      ]
    },
    {
      "cell_type": "code",
      "metadata": {
        "id": "tTiUJpwtPKkV",
        "colab_type": "code",
        "colab": {
          "base_uri": "https://localhost:8080/",
          "height": 34
        },
        "outputId": "bec74b98-8e9d-4810-d1e3-74af9795a2e8"
      },
      "source": [
        "mean_vector = dataframe.mean().values\n",
        "print(mean_vector)"
      ],
      "execution_count": 101,
      "outputs": [
        {
          "output_type": "stream",
          "text": [
            "[18. 54. 54.]\n"
          ],
          "name": "stdout"
        }
      ]
    },
    {
      "cell_type": "markdown",
      "metadata": {
        "id": "QcAG7l2gZMvG",
        "colab_type": "text"
      },
      "source": [
        "## Compute centered data matrix Z"
      ]
    },
    {
      "cell_type": "code",
      "metadata": {
        "id": "DjQeWfc5ZTVy",
        "colab_type": "code",
        "colab": {
          "base_uri": "https://localhost:8080/",
          "height": 102
        },
        "outputId": "d51fd75c-f204-4c29-e3e6-d683d2672eff"
      },
      "source": [
        "ds = np.matrix(dataframe)\n",
        "for i in range(len(ds)):\n",
        "  ds[i] = ds[i] - mean_vector.T\n",
        "df = pd.DataFrame(ds)\n",
        "print(ds)"
      ],
      "execution_count": 110,
      "outputs": [
        {
          "output_type": "stream",
          "text": [
            "[[ -8   6  36]\n",
            " [  2  -4  16]\n",
            " [ 12  -4 -14]\n",
            " [  2  -4   6]\n",
            " [ -8   6 -44]]\n"
          ],
          "name": "stdout"
        }
      ]
    },
    {
      "cell_type": "markdown",
      "metadata": {
        "id": "Hdg88KAybhzY",
        "colab_type": "text"
      },
      "source": [
        "## Compute Covariance matrix"
      ]
    },
    {
      "cell_type": "code",
      "metadata": {
        "id": "A31tKdjJaRfZ",
        "colab_type": "code",
        "colab": {
          "base_uri": "https://localhost:8080/",
          "height": 85
        },
        "outputId": "1b9b9370-d36f-46ce-9953-3bd9274d35ac"
      },
      "source": [
        "cov = df.cov()\n",
        "print(cov)"
      ],
      "execution_count": 113,
      "outputs": [
        {
          "output_type": "stream",
          "text": [
            "      0     1      2\n",
            "0  70.0 -40.0  -15.0\n",
            "1 -40.0  30.0  -20.0\n",
            "2 -15.0 -20.0  930.0\n"
          ],
          "name": "stdout"
        }
      ]
    },
    {
      "cell_type": "markdown",
      "metadata": {
        "id": "XSBzbUxpcJ4k",
        "colab_type": "text"
      },
      "source": [
        "## Get Eigenvectors and eigenvalues"
      ]
    },
    {
      "cell_type": "code",
      "metadata": {
        "id": "R5JCjW8vbrTl",
        "colab_type": "code",
        "colab": {
          "base_uri": "https://localhost:8080/",
          "height": 170
        },
        "outputId": "c502a140-5235-4775-cf5c-9b933f55811a"
      },
      "source": [
        "e_val , e_vect = np.linalg.eigh(cov)\n",
        "e_vect = e_vect.T\n",
        "print('Eigen values'.center(45), e_val, 'Eigen vectors'.center(45), e_vect , sep = '\\n\\n')"
      ],
      "execution_count": 138,
      "outputs": [
        {
          "output_type": "stream",
          "text": [
            "                 Eigen values                \n",
            "\n",
            "[  4.60865707  94.71537456 930.67596837]\n",
            "\n",
            "                Eigen vectors                \n",
            "\n",
            "[[ 0.52611085  0.8499905   0.02689832]\n",
            " [ 0.85025739 -0.5263604   0.00266574]\n",
            " [-0.01642407 -0.02146802  0.99963462]]\n"
          ],
          "name": "stdout"
        }
      ]
    },
    {
      "cell_type": "markdown",
      "metadata": {
        "id": "w0eR3GFEi7yM",
        "colab_type": "text"
      },
      "source": [
        "## Verify $U^T$ΛU= COV.\n"
      ]
    },
    {
      "cell_type": "code",
      "metadata": {
        "id": "4qQcktEfcfcs",
        "colab_type": "code",
        "colab": {
          "base_uri": "https://localhost:8080/",
          "height": 68
        },
        "outputId": "35c7b525-14ef-4f54-9d7f-552e00c0b42c"
      },
      "source": [
        "print(e_vect.T.dot(np.diag(e_val).dot(e_vect)))"
      ],
      "execution_count": 142,
      "outputs": [
        {
          "output_type": "stream",
          "text": [
            "[[ 70. -40. -15.]\n",
            " [-40.  30. -20.]\n",
            " [-15. -20. 930.]]\n"
          ],
          "name": "stdout"
        }
      ]
    },
    {
      "cell_type": "markdown",
      "metadata": {
        "id": "kxp9Fto9kjEI",
        "colab_type": "text"
      },
      "source": [
        "## Compute variance by the best eigenvector"
      ]
    },
    {
      "cell_type": "code",
      "metadata": {
        "id": "IXxOm_-EfCry",
        "colab_type": "code",
        "colab": {
          "base_uri": "https://localhost:8080/",
          "height": 34
        },
        "outputId": "3ae3db59-6801-4fab-f9b7-f433ec9697a1"
      },
      "source": [
        "e_vect = e_vect.T\n",
        "ls = []\n",
        "tot = 0\n",
        "for i in range(len(e_vect)):\n",
        "  ls.append((e_val[i], e_vect[i]))\n",
        "  tot += e_val[i]\n",
        "ls.sort(reverse = True)\n",
        "print(\"%.2f%%\" % (ls[0][0]*100/tot))"
      ],
      "execution_count": 151,
      "outputs": [
        {
          "output_type": "stream",
          "text": [
            "90.36%\n"
          ],
          "name": "stdout"
        }
      ]
    },
    {
      "cell_type": "markdown",
      "metadata": {
        "id": "V78Vn7HqlvOL",
        "colab_type": "text"
      },
      "source": [
        "### Comment : 90.36% of the variance is good."
      ]
    },
    {
      "cell_type": "markdown",
      "metadata": {
        "id": "vJm61bU5mNkd",
        "colab_type": "text"
      },
      "source": [
        "## Projection Matrix"
      ]
    },
    {
      "cell_type": "code",
      "metadata": {
        "id": "Dcmx0AJpk3I8",
        "colab_type": "code",
        "colab": {
          "base_uri": "https://localhost:8080/",
          "height": 68
        },
        "outputId": "154265a0-7e63-4f3d-e6f9-ebdf94bbc9c4"
      },
      "source": [
        "p_mat = []\n",
        "for i in range(2):\n",
        "  p_mat.append(ls[i][1])\n",
        "p_mat = np.array(p_mat).T\n",
        "print(p_mat)"
      ],
      "execution_count": 160,
      "outputs": [
        {
          "output_type": "stream",
          "text": [
            "[[ 0.02689832  0.8499905 ]\n",
            " [ 0.00266574 -0.5263604 ]\n",
            " [ 0.99963462 -0.02146802]]\n"
          ],
          "name": "stdout"
        }
      ]
    },
    {
      "cell_type": "markdown",
      "metadata": {
        "id": "6HNYl3oFnE2R",
        "colab_type": "text"
      },
      "source": [
        "## Projection to 2D"
      ]
    },
    {
      "cell_type": "code",
      "metadata": {
        "id": "Z50-24Lzmb9O",
        "colab_type": "code",
        "colab": {
          "base_uri": "https://localhost:8080/",
          "height": 102
        },
        "outputId": "b71517ee-9495-4628-c70d-a1f5abcc9a26"
      },
      "source": [
        "reduced = ds.dot(p_mat)\n",
        "print(reduced)"
      ],
      "execution_count": 170,
      "outputs": [
        {
          "output_type": "stream",
          "text": [
            "[[ 35.78765422 -10.73093514]\n",
            " [ 16.0372876    3.46193428]\n",
            " [-13.68276781  12.60587991]\n",
            " [  6.0409414    3.67661448]\n",
            " [-44.18311541  -9.01349353]]\n"
          ],
          "name": "stdout"
        }
      ]
    },
    {
      "cell_type": "markdown",
      "metadata": {
        "id": "VtzrowvhpMoP",
        "colab_type": "text"
      },
      "source": [
        "## Scatter the 2D Data"
      ]
    },
    {
      "cell_type": "code",
      "metadata": {
        "id": "_xAGHdvrnK5L",
        "colab_type": "code",
        "colab": {
          "base_uri": "https://localhost:8080/",
          "height": 265
        },
        "outputId": "478c6135-f11a-426f-db87-c273644040bd"
      },
      "source": [
        "reduced = pd.DataFrame(reduced)\n",
        "plt.scatter(reduced.iloc[:,:1], reduced.iloc[:,1:])\n",
        "plt.show()\n",
        "plt.close()"
      ],
      "execution_count": 176,
      "outputs": [
        {
          "output_type": "display_data",
          "data": {
            "image/png": "[encoded data removed]",
            "text/plain": [
              "<Figure size 432x288 with 1 Axes>"
            ]
          },
          "metadata": {
            "tags": []
          }
        }
      ]
    },
    {
      "cell_type": "markdown",
      "metadata": {
        "id": "WY5ADhlarFTh",
        "colab_type": "text"
      },
      "source": [
        "# Question 4)"
      ]
    },
    {
      "cell_type": "markdown",
      "metadata": {
        "id": "hM4d4565s9zD",
        "colab_type": "text"
      },
      "source": [
        "## Mean & Covariance"
      ]
    },
    {
      "cell_type": "code",
      "metadata": {
        "id": "3GdEcxllrLyE",
        "colab_type": "code",
        "colab": {
          "base_uri": "https://localhost:8080/",
          "height": 153
        },
        "outputId": "1201a7a0-59b8-44d8-aead-4e981a0b84b4"
      },
      "source": [
        "dataset = np.matrix('6 -4; -3 5; -2 6; 7 -3')\n",
        "mean = dataset.mean(axis = 0).T\n",
        "df = pd.DataFrame(dataset)\n",
        "cov = df.cov()\n",
        "print(\"Mean = \", mean, sep = '\\n')\n",
        "print(\"\\nCov = \", cov, sep = '\\n')"
      ],
      "execution_count": 192,
      "outputs": [
        {
          "output_type": "stream",
          "text": [
            "Mean = \n",
            "[[2.]\n",
            " [1.]]\n",
            "\n",
            "Cov = \n",
            "           0          1\n",
            "0  27.333333 -26.666667\n",
            "1 -26.666667  27.333333\n"
          ],
          "name": "stdout"
        }
      ]
    },
    {
      "cell_type": "markdown",
      "metadata": {
        "id": "-vSCGECOuxji",
        "colab_type": "text"
      },
      "source": [
        "## Eigenvalue 162 >> 2, So taken eigenvector is \\begin{pmatrix}\n",
        "     \\frac{-1}{sqrt(2)}  \\\\\n",
        "     \\frac{1}{sqrt(2)} \\\\\n",
        "     \\end{pmatrix}"
      ]
    },
    {
      "cell_type": "code",
      "metadata": {
        "id": "n7SH4hKRv_Oj",
        "colab_type": "code",
        "colab": {
          "base_uri": "https://localhost:8080/",
          "height": 265
        },
        "outputId": "32fcca2d-43d5-4b08-f486-55ae7662bea4"
      },
      "source": [
        "e_vect = np.matrix('-0.70710678; 0.70710678')\n",
        "mat = np.zeros(shape = (5,2))\n",
        "for i in range(len(dataset)):\n",
        "  mat[i] = (dataset[i] - mean.T)\n",
        "pts = np.array(mat.dot(e_vect).T)\n",
        "plt.scatter(pts, np.zeros_like(pts))\n",
        "plt.yticks([])\n",
        "plt.show()\n",
        "plt.close()"
      ],
      "execution_count": 235,
      "outputs": [
        {
          "output_type": "display_data",
          "data": {
            "image/png": "[encoded data removed]",
            "text/plain": [
              "<Figure size 432x288 with 1 Axes>"
            ]
          },
          "metadata": {
            "tags": []
          }
        }
      ]
    },
    {
      "cell_type": "code",
      "metadata": {
        "id": "o0mvFbPFwK5N",
        "colab_type": "code",
        "colab": {}
      },
      "source": [
        ""
      ],
      "execution_count": 0,
      "outputs": []
    }
  ]
}